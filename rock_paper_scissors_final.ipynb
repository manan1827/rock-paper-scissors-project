{
 "cells": [
  {
   "cell_type": "code",
   "execution_count": 4,
   "metadata": {},
   "outputs": [
    {
     "name": "stdout",
     "output_type": "stream",
     "text": [
      "\n",
      "You choose rock computer choose rock \n",
      "\n",
      "Both players selected rock It's a tie!\n",
      "\n",
      "You choose paper computer choose scissors \n",
      "\n",
      "Scissors cuts paper! You lose.\n",
      "\n",
      "You choose scissors computer choose rock \n",
      "\n",
      "Rock smashes scissors! You lose.\n",
      "Thankyou for playing the Game :)\n"
     ]
    }
   ],
   "source": [
    "# .....It's a game that is played between two people, in which they have to give their actions\n",
    "# at same interval of time together by means of some hand gestures implying Rock,Paper and Scissors.\n",
    "# The rules of the game are very simple, as we know that rock can break the scissor ,similarly scissors\n",
    "# can cut the paper, and also paper can be wrapped around a rock covering it as a whole.\n",
    "# Hence, when rock and scissor are in the ground then rock will win, likewise in case of scissors and \n",
    "# paper scissors will win and at last with rock and paper, paper will win .\n",
    "# Also if both the players shows the same gesture either rock, paper or scissors then, it will be a tie \n",
    "# between both the players.....\n",
    "# Here we've are this game with computer.\n",
    "\n",
    "import random as r\n",
    "# importing random functions helps the computer to make choices randomly.\n",
    "\n",
    "while True:\n",
    "    User_Input = input(\"Enter a choice (rock, paper, scissors): \")\n",
    "    Type_of_choices = [\"rock\", \"paper\", \"scissors\"]\n",
    "    computer_choice = r.choice(Type_of_choices)\n",
    "    print(\"\\nYou choose\",User_Input,\"computer choose\",computer_choice,\"\\n\")\n",
    "\n",
    "    if User_Input == computer_choice:\n",
    "        print(\"Both players selected\",User_Input,\"It's a tie!\")\n",
    "       \n",
    "    elif User_Input == \"rock\":\n",
    "         # user input is rock and computer randomnly chooses scissors.\n",
    "        if computer_choice == \"scissors\":\n",
    "            print(\"Rock smashes scissors! You win!\")\n",
    "        else:\n",
    "         # user input is rock and computer randomnly chooses paper.  \n",
    "            print(\"Paper covers rock! You lose.\")\n",
    "    elif User_Input == \"paper\":\n",
    "        #user input is paper and computer randomly chooses rock.\n",
    "        if computer_choice == \"rock\":\n",
    "            print(\"Paper covers rock! You win!\")\n",
    "        else:\n",
    "        #user input is paper and computer randomly chooses scissors.\n",
    "            print(\"Scissors cuts paper! You lose.\")\n",
    "    elif User_Input == \"scissors\":\n",
    "        #user input is scissors and computer randomly chooses paper.\n",
    "        if computer_choice == \"paper\":\n",
    "            print(\"Scissors cuts paper! You win!\")\n",
    "        else:\n",
    "        #user input is scissors and computer randomly chooses rock.\n",
    "            print(\"Rock smashes scissors! You lose.\")\n",
    "\n",
    "    play_again = input(\" Do you want to Play again?\\n (y/n): \")\n",
    "    if play_again.lower() != \"y\":\n",
    "        print(\"Thankyou for playing the Game :)\")\n",
    "    \n",
    "        break\n",
    "  "
   ]
  }
 ],
 "metadata": {
  "kernelspec": {
   "display_name": "Python 3.9.12 ('base')",
   "language": "python",
   "name": "python3"
  },
  "language_info": {
   "codemirror_mode": {
    "name": "ipython",
    "version": 3
   },
   "file_extension": ".py",
   "mimetype": "text/x-python",
   "name": "python",
   "nbconvert_exporter": "python",
   "pygments_lexer": "ipython3",
   "version": "3.9.12"
  },
  "orig_nbformat": 4,
  "vscode": {
   "interpreter": {
    "hash": "9f8e243a5b192e0f5c1285f4fb28f2fcc7f3d6433d1a188465d822d13a73fdbd"
   }
  }
 },
 "nbformat": 4,
 "nbformat_minor": 2
}
